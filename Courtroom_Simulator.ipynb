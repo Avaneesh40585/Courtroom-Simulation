{
  "cells": [
    {
      "cell_type": "markdown",
      "metadata": {
        "id": "OWZGbzcTrALK"
      },
      "source": [
        "# **Pre-Processing**\n",
        "\n",
        "\n",
        "\n",
        "\n"
      ]
    },
    {
      "cell_type": "markdown",
      "metadata": {
        "id": "DcZB9aWWsq1P"
      },
      "source": [
        "### Installing groq"
      ]
    },
    {
      "cell_type": "code",
      "execution_count": 38,
      "metadata": {
        "colab": {
          "base_uri": "https://localhost:8080/"
        },
        "id": "JLAoBcJdMjrh",
        "outputId": "b0582dc7-055c-4377-f04e-ae0325a4d7ff"
      },
      "outputs": [
        {
          "name": "stdout",
          "output_type": "stream",
          "text": [
            "Requirement already satisfied: groq in /usr/local/lib/python3.11/dist-packages (0.24.0)\n",
            "Requirement already satisfied: anyio<5,>=3.5.0 in /usr/local/lib/python3.11/dist-packages (from groq) (4.9.0)\n",
            "Requirement already satisfied: distro<2,>=1.7.0 in /usr/local/lib/python3.11/dist-packages (from groq) (1.9.0)\n",
            "Requirement already satisfied: httpx<1,>=0.23.0 in /usr/local/lib/python3.11/dist-packages (from groq) (0.28.1)\n",
            "Requirement already satisfied: pydantic<3,>=1.9.0 in /usr/local/lib/python3.11/dist-packages (from groq) (2.11.4)\n",
            "Requirement already satisfied: sniffio in /usr/local/lib/python3.11/dist-packages (from groq) (1.3.1)\n",
            "Requirement already satisfied: typing-extensions<5,>=4.10 in /usr/local/lib/python3.11/dist-packages (from groq) (4.13.2)\n",
            "Requirement already satisfied: idna>=2.8 in /usr/local/lib/python3.11/dist-packages (from anyio<5,>=3.5.0->groq) (3.10)\n",
            "Requirement already satisfied: certifi in /usr/local/lib/python3.11/dist-packages (from httpx<1,>=0.23.0->groq) (2025.4.26)\n",
            "Requirement already satisfied: httpcore==1.* in /usr/local/lib/python3.11/dist-packages (from httpx<1,>=0.23.0->groq) (1.0.9)\n",
            "Requirement already satisfied: h11>=0.16 in /usr/local/lib/python3.11/dist-packages (from httpcore==1.*->httpx<1,>=0.23.0->groq) (0.16.0)\n",
            "Requirement already satisfied: annotated-types>=0.6.0 in /usr/local/lib/python3.11/dist-packages (from pydantic<3,>=1.9.0->groq) (0.7.0)\n",
            "Requirement already satisfied: pydantic-core==2.33.2 in /usr/local/lib/python3.11/dist-packages (from pydantic<3,>=1.9.0->groq) (2.33.2)\n",
            "Requirement already satisfied: typing-inspection>=0.4.0 in /usr/local/lib/python3.11/dist-packages (from pydantic<3,>=1.9.0->groq) (0.4.0)\n"
          ]
        }
      ],
      "source": [
        "pip install groq"
      ]
    },
    {
      "cell_type": "markdown",
      "metadata": {
        "id": "va6VDquwe5Ue"
      },
      "source": [
        "## Importing Libraries"
      ]
    },
    {
      "cell_type": "code",
      "execution_count": 39,
      "metadata": {
        "id": "0AI4mHXkgeIy"
      },
      "outputs": [],
      "source": [
        "import pandas as pd\n",
        "import random\n",
        "from groq import Groq\n",
        "from typing import List, Dict, Optional"
      ]
    },
    {
      "cell_type": "markdown",
      "metadata": {
        "id": "JWdKKUPOge3n"
      },
      "source": [
        "## Load a random case from data.csv"
      ]
    },
    {
      "cell_type": "code",
      "execution_count": 40,
      "metadata": {
        "id": "M1haG8afgmno"
      },
      "outputs": [],
      "source": [
        "cases_df = pd.read_csv('data.csv')\n",
        "case_column = cases_df.columns[0]\n",
        "case_list = cases_df[case_column].dropna().tolist()\n",
        "random_case = random.choice(case_list)"
      ]
    },
    {
      "cell_type": "markdown",
      "metadata": {
        "id": "aXVQNiiugw3p"
      },
      "source": [
        "## Choosing Model"
      ]
    },
    {
      "cell_type": "code",
      "execution_count": null,
      "metadata": {
        "id": "T044WC3dg1NB"
      },
      "outputs": [],
      "source": [
        "client = Groq(\n",
        "    api_key=\"Your API keys here\"\n",
        ")\n",
        "MODEL_NAME = \"llama-3.3-70b-versatile\""
      ]
    },
    {
      "cell_type": "markdown",
      "metadata": {
        "id": "j0pUTdZCOMEN"
      },
      "source": [
        "## Text formatting settings"
      ]
    },
    {
      "cell_type": "code",
      "execution_count": 42,
      "metadata": {
        "id": "BkNzJ-7gOLyM"
      },
      "outputs": [],
      "source": [
        "def print_section(title):\n",
        "    print(\"\\n\" + \"=\"*40)\n",
        "    print(f\"{title.upper():^40}\")\n",
        "    print(\"=\"*40 + \"\\n\")\n",
        "\n",
        "def print_speaker(speaker, text):\n",
        "    # Colors: yellow for speaker, white for text\n",
        "    YELLOW = '\\033[93m'\n",
        "    RESET = '\\033[0m'\n",
        "    print(f\"{YELLOW}{speaker.upper()}:{RESET}\")\n",
        "    print(text.strip())\n",
        "    print(\"\\n\" + \"-\"*500 + \"\\n\")\n",
        "\n",
        "# def print_speaker(speaker, text):\n",
        "#     print(f\"{speaker.upper()}:\")\n",
        "#     print(text.strip())\n",
        "#     print(\"\\n\" + \"-\"*400 + \"\\n\")"
      ]
    },
    {
      "cell_type": "markdown",
      "metadata": {
        "id": "I9KiEgFyhvAR"
      },
      "source": [
        "# Classes Implementation"
      ]
    },
    {
      "cell_type": "markdown",
      "metadata": {
        "id": "GboCvjMjh3Rg"
      },
      "source": [
        "## Courtroom Agent"
      ]
    },
    {
      "cell_type": "code",
      "execution_count": 43,
      "metadata": {
        "id": "Z433WsBViC9H"
      },
      "outputs": [],
      "source": [
        "class CourtroomAgent:\n",
        "    def __init__(self, name: str, role: str, system_prompt: str):\n",
        "        self.name = name\n",
        "        self.role = role\n",
        "        self.system_prompt = system_prompt\n",
        "\n",
        "    def get_response(\n",
        "        self,\n",
        "        user_message: str,\n",
        "        shared_history: list,\n",
        "        context_window: int = 30\n",
        "    ) -> str:\n",
        "        # Helper to map roles\n",
        "        def map_role(role):\n",
        "            if role == 'system':\n",
        "                return 'system'\n",
        "            elif role == 'user':\n",
        "                return 'user'\n",
        "            else:\n",
        "                return 'assistant'\n",
        "\n",
        "        # Prepare conversation history\n",
        "        history = [{\"role\": \"system\", \"content\": self.system_prompt}]\n",
        "        non_system_history = [msg for msg in shared_history if msg[\"role\"] != \"system\"]\n",
        "        history += non_system_history[-context_window:]\n",
        "        history.append({\"role\": \"user\", \"content\": user_message})\n",
        "\n",
        "        # Map all roles to valid ones\n",
        "        mapped_history = [{\"role\": map_role(msg[\"role\"]), \"content\": msg[\"content\"]} for msg in history]\n",
        "\n",
        "        response = client.chat.completions.create(\n",
        "            model=MODEL_NAME,\n",
        "            messages=mapped_history,\n",
        "            stream=False\n",
        "        )\n",
        "        reply = response.choices[0].message.content\n",
        "        return reply"
      ]
    },
    {
      "cell_type": "markdown",
      "metadata": {
        "id": "I3PaR2w1iDqz"
      },
      "source": [
        "## Courtroom"
      ]
    },
    {
      "cell_type": "code",
      "execution_count": 44,
      "metadata": {
        "id": "y-s76mNTacAM"
      },
      "outputs": [],
      "source": [
        "class Courtroom:\n",
        "    def __init__(self, case_background: str):\n",
        "        self.agents: Dict[str, CourtroomAgent] = {}\n",
        "        self.case_background: str = case_background\n",
        "        self.case_type: str = self.determine_case_type(case_background)\n",
        "        self.dynamic_agent_counter = 0\n",
        "        self.shared_history: list = [\n",
        "        {\"role\": \"system\", \"content\": f\"Case background: {self.case_background}\"}\n",
        "        ]\n",
        "\n",
        "        # Core agents\n",
        "        self.add_agent(\"Judge\", CourtroomAgent(\"Judge\", \"Judge\", \"You are a fair and wise judge. Weigh all arguments neutrally and deliver clear rulings.\"))\n",
        "        self.add_agent(\"Defense\", CourtroomAgent(\"Defense\", \"Defense Lawyer\", \"You are the defense lawyer. Protect your client and argue logically against the prosecution's claims.\"))\n",
        "        self.add_agent(\"Defendant\", CourtroomAgent(\"Defendant\", \"Defendant\", \"You are the defendant. Answer questions honestly and provide your perspective on the case.\"))\n",
        "        self.add_agent(\"Prosecution\", CourtroomAgent(\"Prosecution\", \"Prosecution Lawyer\", \"You are the prosecution lawyer. Present compelling arguments and point out flaws in the defense.\"))\n",
        "\n",
        "        if self.case_type == \"civil\":\n",
        "            self.add_agent(\"Plaintiff\", CourtroomAgent(\"Plaintiff\", \"Plaintiff\", \"You are the plaintiff. Represent your interests and highlight injustices suffered.\"))\n",
        "\n",
        "        # Optional agents\n",
        "        self.add_agent(\"Bailiff\", CourtroomAgent(\"Bailiff\", \"Bailiff\", \"You are the bailiff. Maintain order in the courtroom and assist the judge as required.\"))\n",
        "        self.add_agent(\"Stenographer\", CourtroomAgent(\"Stenographer\", \"Stenographer\", \"You are the court stenographer. Accurately record everything said in the courtroom.\"))\n",
        "        self.add_agent(\"ExpertConsultant\", CourtroomAgent(\"ExpertConsultant\", \"Expert Consultant\", \"You are an expert consultant. Provide technical or scientific insights when called upon.\"))\n",
        "        for i in range(1, 4):\n",
        "            self.add_agent(f\"Juror{i}\", CourtroomAgent(f\"Juror{i}\", \"Juror\", f\"You are Juror {i}. Listen to all arguments and evidence impartially.\"))\n",
        "\n",
        "    def add_agent(self, key: str, agent: CourtroomAgent):\n",
        "        self.agents[key] = agent\n",
        "\n",
        "    def remove_agent(self, key: str):\n",
        "        if key in self.agents:\n",
        "            del self.agents[key]\n",
        "\n",
        "    def create_witness(self, name: Optional[str] = None, prompt: Optional[str] = None) -> str:\n",
        "        self.dynamic_agent_counter += 1\n",
        "        witness_name = name or f\"Witness{self.dynamic_agent_counter}\"\n",
        "        system_prompt = prompt or f\"You are {witness_name}, a witness in this case. Answer questions truthfully and relevantly.\"\n",
        "        self.add_agent(witness_name, CourtroomAgent(witness_name, \"Witness\", system_prompt))\n",
        "        return witness_name\n",
        "\n",
        "    def create_agent(self, role: str, name: Optional[str] = None, prompt: Optional[str] = None) -> str:\n",
        "        self.dynamic_agent_counter += 1\n",
        "        agent_name = name or f\"{role}{self.dynamic_agent_counter}\"\n",
        "        system_prompt = prompt or f\"You are {agent_name}, a {role} in this case. Act according to your role.\"\n",
        "        self.add_agent(agent_name, CourtroomAgent(agent_name, role, system_prompt))\n",
        "        return agent_name\n",
        "\n",
        "    def run_phase(self, phase_name: str, prompts: Dict[str, str]) -> Dict[str, str]:\n",
        "        print_section(phase_name)\n",
        "        outputs = {}\n",
        "        new_agents_to_create = []\n",
        "        for role, prompt in prompts.items():\n",
        "            if role in self.agents:\n",
        "                full_prompt = prompt + \"\\nCase: \" + self.case_background[:4000]\n",
        "                response = self.agents[role].get_response(full_prompt, self.shared_history, context_window=30)\n",
        "                print_speaker(role, response)\n",
        "                outputs[role] = response\n",
        "                self.shared_history.append({\"role\": role, \"content\": response})\n",
        "                creation = parse_for_new_agent(response)\n",
        "                if creation:\n",
        "                    new_agents_to_create.append(creation)\n",
        "        for role, name, prompt in new_agents_to_create:\n",
        "            if name not in self.agents:\n",
        "                print(f\"\\n[INFO] Creating new agent: {name} ({role})\")\n",
        "                self.create_agent(role=role, name=name, prompt=prompt)\n",
        "        return outputs\n",
        "\n",
        "\n",
        "\n",
        "    @staticmethod\n",
        "    def determine_case_type(case_background: str) -> str:\n",
        "        civil_keywords = [\"contract\", \"arbitration\", \"plaintiff\", \"commercial\", \"company\", \"tender\", \"writ petition\", \"agreement\"]\n",
        "        criminal_keywords = [\"murder\", \"theft\", \"assault\", \"criminal\", \"prosecution\", \"accused\", \"defendant\"]\n",
        "        background_lower = case_background.lower()\n",
        "        for word in civil_keywords:\n",
        "            if word in background_lower:\n",
        "                return \"civil\"\n",
        "        for word in criminal_keywords:\n",
        "            if word in background_lower:\n",
        "                return \"criminal\"\n",
        "        return \"civil\"\n"
      ]
    },
    {
      "cell_type": "markdown",
      "metadata": {
        "id": "OzxmkAb4jI8G"
      },
      "source": [
        "## Helper Functions"
      ]
    },
    {
      "cell_type": "code",
      "execution_count": 45,
      "metadata": {
        "id": "I72DwHaLmUOA"
      },
      "outputs": [],
      "source": [
        "# --- Helper: Dynamic agent creation from response ---\n",
        "def parse_for_new_agent(response: str):\n",
        "    import re\n",
        "    witness_match = re.search(r'call (Witness\\d+)', response, re.IGNORECASE)\n",
        "    expert_match = re.search(r'call (Expert\\w*)', response, re.IGNORECASE)\n",
        "    if witness_match:\n",
        "        name = witness_match.group(1)\n",
        "        prompt = f\"You are {name}, a new witness in this case. Answer all questions truthfully and relevantly.\"\n",
        "        return (\"Witness\", name, prompt)\n",
        "    if expert_match:\n",
        "        name = expert_match.group(1)\n",
        "        prompt = f\"You are {name}, an expert in your field. Provide technical or scientific insights when called upon.\"\n",
        "        return (\"ExpertConsultant\", name, prompt)\n",
        "    return None\n",
        "\n",
        "# --- Helper: Decide next phase based on agent responses ---\n",
        "def get_next_phase_from_responses(responses, default_next):\n",
        "    for agent, resp in responses.items():\n",
        "        if \"recall witness\" in resp.lower():\n",
        "            return \"Witness Interrogation & Argumentation\", {}\n",
        "        if \"move to verdict\" in resp.lower() or \"ready to rule\" in resp.lower():\n",
        "            return \"Judge's Ruling\", {}\n",
        "        if \"closing statement\" in resp.lower():\n",
        "            return \"Closing Statements\", {}\n",
        "    return default_next, {}"
      ]
    },
    {
      "cell_type": "markdown",
      "metadata": {
        "id": "UGkX9C0Ag6mr"
      },
      "source": [
        "# Simulation of the case"
      ]
    },
    {
      "cell_type": "markdown",
      "metadata": {
        "id": "XxgN14O8jUn8"
      },
      "source": [
        "## Prompts for each phase"
      ]
    },
    {
      "cell_type": "code",
      "execution_count": 46,
      "metadata": {
        "id": "pHRDuj-bf3JB"
      },
      "outputs": [],
      "source": [
        "opening_prompts = {\n",
        "    \"Prosecution\": (\n",
        "        \"As the prosecution lawyer, deliver a formal opening statement. \"\n",
        "        \"Summarize the facts of the case, outline the charges, and explain the prosecution's theory of the crime. \"\n",
        "        \"Emphasize the seriousness of the alleged offenses and preview the evidence you intend to present.\"\n",
        "    ),\n",
        "    \"Defense\": (\n",
        "        \"As the defense lawyer, present a formal opening statement. \"\n",
        "        \"Introduce your clients and their position, challenge the prosecution's narrative, and outline the defense's main arguments. \"\n",
        "        \"Emphasize the presumption of innocence and the burden of proof.\"\n",
        "    ),\n",
        "    \"Defendant\": (\n",
        "        \"As the defendant, briefly introduce yourself to the court. \"\n",
        "        \"State your relationship to the case and your initial reaction to the charges brought against you.\"\n",
        "    )\n",
        "}\n",
        "# Add Plaintiff if civil\n",
        "court = Courtroom(case_background=random_case)\n",
        "if court.case_type == \"civil\":\n",
        "    opening_prompts[\"Plaintiff\"] = (\n",
        "        \"As the plaintiff, deliver a formal opening statement. \"\n",
        "        \"Explain your grievance, the harm you have suffered, and why you are seeking relief from the court. \"\n",
        "        \"Briefly outline the evidence and arguments you will present.\"\n",
        "    )\n",
        "\n",
        "# Phase 2: Create initial witnesses\n",
        "witness1 = court.create_witness(\n",
        "    name=\"Witness1\",\n",
        "    prompt=(\n",
        "        \"You are Witness1, an eyewitness to the key events in this case. \"\n",
        "        \"Respond truthfully and clearly to all questions, focusing on what you personally saw or heard.\"\n",
        "    )\n",
        ")\n",
        "witness2 = court.create_witness(\n",
        "    name=\"ExpertWitness\",\n",
        "    prompt=(\n",
        "        \"You are ExpertWitness, a respected expert in contract law. \"\n",
        "        \"Provide clear, impartial, and technical testimony when asked, explaining complex legal points to the court.\"\n",
        "    )\n",
        ")\n",
        "phase2_prompts = {\n",
        "    \"Prosecution\": (\n",
        "        f\"As the prosecution lawyer, conduct a direct examination of {witness1}. \"\n",
        "        \"Ask questions to establish the facts of the case and highlight evidence that supports the prosecution's theory.\"\n",
        "    ),\n",
        "    \"Defense\": (\n",
        "        f\"As the defense lawyer, cross-examine {witness1}. \"\n",
        "        \"Probe for inconsistencies, challenge the witness's credibility, and defend your client's position.\"\n",
        "    ),\n",
        "    \"ExpertWitness\": (\n",
        "        \"As the expert witness in contract law, provide your professional analysis of the arbitration clause and its legal implications in this case.\"\n",
        "    ),\n",
        "    \"Defendant\": (\n",
        "        \"As the defendant, respond to the testimonies provided by the witnesses. \"\n",
        "        \"Clarify your actions and motivations, and address any allegations made against you.\"\n",
        "    ),\n",
        "    \"Stenographer\": (\n",
        "        \"As the court stenographer, summarize the key points from today's testimonies and arguments in a concise and neutral manner.\"\n",
        "    )\n",
        "}\n",
        "if court.case_type == \"civil\":\n",
        "    phase2_prompts[\"Plaintiff\"] = (\n",
        "        \"As the plaintiff, respond to the testimonies and arguments presented so far. \"\n",
        "        \"Clarify your position and highlight any evidence supporting your claims.\"\n",
        "    )\n",
        "\n",
        "closing_prompts = {\n",
        "    \"Prosecution\": (\n",
        "        \"As the prosecution lawyer, deliver a formal closing statement. \"\n",
        "        \"Summarize the prosecution's case, review the key evidence and testimonies, and argue why the defendant should be found guilty beyond a reasonable doubt.\"\n",
        "    ),\n",
        "    \"Defense\": (\n",
        "        \"As the defense lawyer, deliver a formal closing statement. \"\n",
        "        \"Summarize your defense, highlight weaknesses in the prosecution's case, and argue for your client's acquittal.\"\n",
        "    ),\n",
        "    \"Defendant\": (\n",
        "        \"As the defendant, present your final remarks to the court. \"\n",
        "        \"Express your perspective on the trial and reiterate your innocence or mitigating circumstances.\"\n",
        "    )\n",
        "}\n",
        "if court.case_type == \"civil\":\n",
        "    closing_prompts[\"Plaintiff\"] = (\n",
        "        \"As the plaintiff, deliver your closing statement. \"\n",
        "        \"Summarize your case, the harm suffered, and why the court should rule in your favor.\"\n",
        "    )\n",
        "\n",
        "judge_ruling_prompt = (\n",
        "    \"As the judge, review the arguments, evidence, and testimonies presented during the trial. \"\n",
        "    \"Deliver your verdict with clear legal reasoning, referencing the facts and applicable law. \"\n",
        "    \"Be concise, impartial, and judicial in your ruling.\"\n",
        ")"
      ]
    },
    {
      "cell_type": "markdown",
      "metadata": {
        "id": "G6B9IndknEgC"
      },
      "source": [
        "## Flexible trial controller loop"
      ]
    },
    {
      "cell_type": "code",
      "execution_count": 47,
      "metadata": {
        "colab": {
          "base_uri": "https://localhost:8080/",
          "height": 1000
        },
        "id": "VMywXN8YnB9w",
        "outputId": "9df710ff-e0f2-4403-c791-27bcd29c6641"
      },
      "outputs": [
        {
          "name": "stdout",
          "output_type": "stream",
          "text": [
            "\n",
            "Current case type: CIVIL\n",
            "\n",
            "========================================\n",
            "           OPENING STATEMENTS           \n",
            "==================================================\n",
            "\n",
            "\u001b[93mPROSECUTION:\u001b[0m\n",
            "Ladies and gentlemen of the court, esteemed judges, and honorable members of the bar, I stand before you today as the prosecution lawyer in the case of Civil Appeal No. 333 of 1956. The appeal is filed against the judgment and order dated March 23, 1955, of the Election Tribunal, Lucknow, in Election Petition No. 320 of 1952.\n",
            "\n",
            "The facts of this case are straightforward. On January 31, 1952, an election was held in the Lucknow Central Constituency, a double-member constituency with one seat reserved for a member of the Scheduled Castes. The two appellants, who are the respondents in the election petition, were declared elected after securing the largest number of votes. However, on June 10, 1952, the respondent filed a petition under Section 81 of the Representation of the People Act, 1951, alleging that the appellants had committed corrupt practices and prayed that the election be declared void.\n",
            "\n",
            "The charges against the appellants are twofold. First, it is alleged that they obtained the assistance of four village officers, Mukhias, in furtherance of their election prospects, thereby contravening Section 123(8) of the Act. Second, it is alleged that the first appellant employed two persons, Ganga Prasad and Viswanath Pande, for payment in connection with the election, in addition to the number permitted by Rule 118 read with Schedule VI, thereby infringing Section 123(7) of the Act.\n",
            "\n",
            "The prosecution's theory of the crime is that the appellants, in their quest for power, resorted to unfair means to influence the outcome of the election. They enlisted the support of government servants, including the District Magistrate, Lucknow, and utilized eye relief camps as a front for their election propaganda. They also employed individuals in excess of the permitted number, which is a clear violation of the Act.\n",
            "\n",
            "The seriousness of these alleged offenses cannot be overstated. The integrity of the electoral process is the cornerstone of our democracy, and any attempts to undermine it must be taken seriously. The prosecution will demonstrate that the appellants' actions were not only unethical but also illegal, and that their election was therefore void.\n",
            "\n",
            "Throughout this trial, the prosecution will present evidence that will show the appellants' culpability. We will call witnesses who will testify to the appellants' involvement in corrupt practices, including the utilization of government resources and personnel for their election campaign. We will also present documentary evidence that will demonstrate the appellants' employment of individuals in excess of the permitted number.\n",
            "\n",
            "In conclusion, the prosecution will prove that the appellants' election was tainted by corrupt practices and that their actions were in clear contravention of the Representation of the People Act, 1951. We will demonstrate that the Election Tribunal's decision to declare the election void was justified, and we will urge this court to uphold the Tribunal's order. The prosecution is confident that the evidence will speak for itself, and we look forward to presenting our case in the days to come. Thank you.\n",
            "\n",
            "--------------------------------------------------------------------------------------------------------------------------------------------------------------------------------------------------------------------------------------------------------------------------------------------------------------------------------------------------------------------------------------------------------------------------------------------------------------------------------------------------------------------\n",
            "\n",
            "\u001b[93mDEFENSE:\u001b[0m\n",
            "Ladies and gentlemen of the court, esteemed judges, and honorable members of the bar, I stand before you today as the defense lawyer for the appellants in this election petition case. My clients, the appellants, are respectable members of society who have been wrongfully accused of committing corrupt practices during the election campaign for the Lucknow Central Constituency.\n",
            "\n",
            "The prosecution's narrative, as presented, paints a picture of my clients engaging in unethical and illegal activities to influence the outcome of the election. However, I must emphasize that these allegations are nothing but baseless accusations, devoid of any substantial evidence. The prosecution's case relies heavily on conjecture, speculation, and unverifiable claims, which cannot be the basis for a fair and just verdict.\n",
            "\n",
            "The appellants deny all allegations of corrupt practices, and we will demonstrate that the charges brought against them are unfounded and lack merit. The prosecution's reliance on the alleged involvement of four village officers, Mukhias, and the employment of two individuals, Ganga Prasad and Viswanath Pande, is nothing but a desperate attempt to create a narrative that is not supported by facts.\n",
            "\n",
            "Throughout this trial, the defense will challenge the prosecution's narrative, highlighting the numerous inconsistencies, contradictions, and flaws in their case. We will demonstrate that the allegations against my clients are nothing but a fabrication, designed to discredit their reputation and undermine their legitimate election to the Legislative Assembly, Uttar Pradesh.\n",
            "\n",
            "It is essential to remember that my clients are presumed innocent until proven guilty. The burden of proof lies squarely on the prosecution to demonstrate, beyond a reasonable doubt, that my clients have indeed committed the alleged corrupt practices. We will show that the prosecution has failed to meet this burden, and their case is built on shaky grounds.\n",
            "\n",
            "The defense will present evidence that will contradict the prosecution's claims, highlighting the appellants' commitment to a fair and transparent election campaign. We will call witnesses who will testify to the appellants' integrity, honesty, and dedication to serving the people of the Lucknow Central Constituency.\n",
            "\n",
            "In conclusion, the defense is confident that the evidence will demonstrate the appellants' innocence and expose the prosecution's flawed narrative. We urge the court to carefully consider the evidence presented and to remember that the presumption of innocence is a fundamental right that must be upheld. The defense is ready to present its case, and we look forward to demonstrating the lack of merit in the prosecution's allegations.\n",
            "\n",
            "I would like to address the court on the following key points:\n",
            "\n",
            "1. The allegations against my clients were not properly pleaded in the original petition, and the subsequent amendment was made without proper authorization, rendering the charge invalid.\n",
            "2. The prosecution's reliance on hearsay evidence and unverifiable claims is insufficient to establish the alleged corrupt practices.\n",
            "3. The appellants' involvement in the election campaign was transparent, and their actions were in accordance with the law and the principles of fair play.\n",
            "4. The prosecution's attempt to link the appellants to the alleged corrupt practices is nothing but a desperate attempt to create a narrative that is not supported by facts.\n",
            "\n",
            "I request the court to carefully consider these points and to remember that the burden of proof lies with the prosecution. The defense is confident that, after careful consideration of the evidence, the court will find in favor of my clients, and their election will be upheld. Thank you.\n",
            "\n",
            "--------------------------------------------------------------------------------------------------------------------------------------------------------------------------------------------------------------------------------------------------------------------------------------------------------------------------------------------------------------------------------------------------------------------------------------------------------------------------------------------------------------------\n",
            "\n",
            "\u001b[93mDEFENDANT:\u001b[0m\n",
            "Your Honors, I stand before you today as one of the appellants in this election petition case, Civil Appeal No. 333 of 1956. I am a respected member of my community and a dedicated public servant, having been elected to the Legislative Assembly, Uttar Pradesh from the Lucknow Central Constituency. I am deeply invested in this case, as the outcome will determine the validity of my election and my ability to continue serving the people who have placed their trust in me.\n",
            "\n",
            "When I first learned of the charges brought against me, I was shocked and dismayed. The allegations of corrupt practices, specifically that I had obtained the assistance of four village officers, Mukhias, and employed two individuals in excess of the permitted number, were completely unfounded and without merit. I have always conducted my election campaign with the utmost integrity and transparency, and I am confident that my actions have been in accordance with the law and the principles of fair play.\n",
            "\n",
            "I must admit that I was taken aback by the complexity and duration of the proceedings, which spanned several years and involved numerous applications, amendments, and hearings. Despite the challenges and delays, I have remained committed to defending my election and my reputation, and I am eager to present my case to this Honorable Court.\n",
            "\n",
            "As I understand, the Election Tribunal has declared my election void on two grounds, which I strongly dispute. I am confident that, upon careful consideration of the evidence and the law, this Court will find in my favor and uphold my election. I am prepared to address the allegations against me and demonstrate that my actions were lawful and proper. I look forward to the opportunity to present my case and clears my name. Thank you.\n",
            "\n",
            "--------------------------------------------------------------------------------------------------------------------------------------------------------------------------------------------------------------------------------------------------------------------------------------------------------------------------------------------------------------------------------------------------------------------------------------------------------------------------------------------------------------------\n",
            "\n",
            "\u001b[93mPLAINTIFF:\u001b[0m\n",
            "Your Honors, esteemed members of the court, I stand before you today as the plaintiff in this election petition case, Civil Appeal No. 333 of 1956. I am here to seek relief and justice for the grievances I have suffered as a result of the alleged corrupt practices committed by the appellants during the election campaign for the Lucknow Central Constituency.\n",
            "\n",
            "On January 31, 1952, an election was held in the Lucknow Central Constituency, a double-member constituency with one seat reserved for a member of the Scheduled Castes. The two appellants were declared elected, having secured the largest number of votes. However, I filed a petition under Section 81 of the Representation of the People Act, 1951, alleging that the appellants had committed a number of corrupt practices, including obtaining the assistance of government servants, including the District Magistrate, Lucknow, and utilizing eye relief camps as a front for their election propaganda.\n",
            "\n",
            "The appellants' actions were a clear violation of the principles of fair play and the law governing elections in our country. Their corrupt practices not only undermined the integrity of the electoral process but also caused me significant harm and injustice. As a result of their actions, I was denied a fair opportunity to compete in the election, and my chances of winning were significantly diminished.\n",
            "\n",
            "Throughout this case, I have suffered numerous injustices, including the delay and complexity of the proceedings, which have caused me significant emotional distress and financial hardship. The Election Tribunal's decision to declare the election void on two grounds, including the appellants' employment of four village officers, Mukhias, and the employment of two individuals in excess of the permitted number, was a welcome relief. However, the appellants' decision to appeal this decision has forced me to continue to pursue justice and seek relief from this Honorable Court.\n",
            "\n",
            "In this appeal, I will present evidence and arguments to demonstrate that the appellants' corrupt practices were a direct result of their desire to win the election at any cost. I will show that the appellants' actions were not only unethical but also illegal, and that their election was therefore void. I will also demonstrate that the Election Tribunal's decision was justified and that the appellants' appeal is without merit.\n",
            "\n",
            "The evidence I will present will include witness testimony, documentary evidence, and other relevant materials that will demonstrate the appellants' corrupt practices and their impact on the election. I will also address the appellants' contentions and demonstrate that their arguments are without foundation.\n",
            "\n",
            "In conclusion, I urge this Honorable Court to consider the evidence and arguments I will present and to find in my favor. I seek relief and justice for the grievances I have suffered, and I am confident that this Court will uphold the principles of fairness and justice that are fundamental to our democratic system. I am ready to proceed with my case and to present the evidence and arguments that will demonstrate the appellants' corrupt practices and their impact on the election. Thank you.\n",
            "\n",
            "The key points I will address in my case are:\n",
            "\n",
            "1. The appellants' employment of four village officers, Mukhias, in furtherance of their election prospects, which is a clear violation of Section 123(8) of the Representation of the People Act, 1951.\n",
            "2. The appellants' employment of two individuals, Ganga Prasad and Viswanath Pande, in excess of the permitted number, which is a clear violation of Section 123(7) of the Representation of the People Act, 1951.\n",
            "3. The appellants' use of eye relief camps as a front for their election propaganda, which is a clear violation of the principles of fair play and the law governing elections.\n",
            "4. The delay and complexity of the proceedings, which have caused me significant emotional distress and financial hardship.\n",
            "\n",
            "I will present evidence and arguments to demonstrate that the appellants' corrupt practices were a direct result of their desire to win the election at any cost, and that their actions were not only unethical but also illegal. I am confident that this Honorable Court will find in my favor and uphold the principles of fairness and justice that are fundamental to our democratic system.\n",
            "\n",
            "--------------------------------------------------------------------------------------------------------------------------------------------------------------------------------------------------------------------------------------------------------------------------------------------------------------------------------------------------------------------------------------------------------------------------------------------------------------------------------------------------------------------\n",
            "\n",
            "\n",
            "========================================\n",
            " WITNESS INTERROGATION & ARGUMENTATION  \n",
            "==================================================\n",
            "\n",
            "\u001b[93mPROSECUTION:\u001b[0m\n",
            "Witness1, can you please describe your role and relationship to the appellants and the respondent in this case?\n",
            "\n",
            " Witness1: Yes, I was a voter in the Lucknow Central Constituency during the 1952 election. I had interactions with both the appellants and the respondent during the election campaign.\n",
            "\n",
            " Prosecution: Can you describe the nature of your interactions with the appellants?\n",
            "\n",
            " Witness1: I attended several election meetings and rallies organized by the appellants. I also had personal conversations with them on a few occasions.\n",
            "\n",
            " Prosecution: Did you observe any unusual or suspicious activities during the election campaign?\n",
            "\n",
            " Witness1: Yes, I noticed that the appellants were often accompanied by government servants, including the District Magistrate, Lucknow, and the Tahsildar, Lucknow. They also used eye relief camps as a platform for their election propaganda.\n",
            "\n",
            " Prosecution: Can you elaborate on what you mean by \"eye relief camps\"?\n",
            "\n",
            " Witness1: The eye relief camps were supposed to be a humanitarian effort to provide medical aid to people with eye problems. However, I observed that the appellants were using these camps as a way to gain public support and promote their election campaign.\n",
            "\n",
            " Prosecution: Did you see any specific instances of the appellants using government servants or resources for their election campaign?\n",
            "\n",
            " Witness1: Yes, I saw the District Magistrate, Lucknow, and the Tahsildar, Lucknow, attending election meetings and rallies organized by the appellants. I also saw them distributing pamphlets and other campaign materials.\n",
            "\n",
            " Prosecution: Can you describe the role of the four village officers, Mukhias, in the appellants' election campaign?\n",
            "\n",
            " Witness1: The Mukhias were actively involved in promoting the appellants' campaign in their respective villages. They would often accompany the appellants during their visits to the villages and help them organize meetings and rallies.\n",
            "\n",
            " Prosecution: Did you notice anything unusual about the appellants' campaign expenses or financial transactions?\n",
            "\n",
            " Witness1: I did notice that the appellants seemed to have a lot of resources at their disposal. They were able to organize large-scale rallies and meetings, and they had a significant amount of campaign materials, such as pamphlets and posters.\n",
            "\n",
            " Prosecution: Can you describe your interactions with Ganga Prasad and Viswanath Pande, the two individuals alleged to have been employed by the first appellant in excess of the permitted number?\n",
            "\n",
            " Witness1: I met Ganga Prasad and Viswanath Pande on several occasions during the election campaign. They were actively involved in the appellants' campaign and seemed to be working closely with the first appellant.\n",
            "\n",
            " Prosecution: Did you observe any evidence of payment or compensation being made to Ganga Prasad and Viswanath Pande by the first appellant?\n",
            "\n",
            " Witness1: I did see the first appellant handing over some money to Ganga Prasad and Viswanath Pande on one occasion. I don't know the exact details, but it seemed like they were being paid for their services.\n",
            "\n",
            "This line of questioning establishes the witness's credibility and provides evidence of the appellants' alleged corrupt practices, including the use of government servants and resources for their election campaign, and the employment of Ganga Prasad and Viswanath Pande in excess of the permitted number. The witness's testimony also highlights the appellants' alleged misuse of eye relief camps for election propaganda and their suspicious financial transactions.\n",
            "\n",
            "--------------------------------------------------------------------------------------------------------------------------------------------------------------------------------------------------------------------------------------------------------------------------------------------------------------------------------------------------------------------------------------------------------------------------------------------------------------------------------------------------------------------\n",
            "\n",
            "\u001b[93mDEFENSE:\u001b[0m\n",
            "Witness1, you have testified that you attended several election meetings and rallies organized by the appellants, and that you had personal conversations with them on a few occasions. Can you explain to the court why you, as a voter, were so intimately involved with the appellants' campaign?\n",
            "\n",
            "Witness1: I was just a enthusiastic supporter, and I wanted to help them in any way I could.\n",
            "\n",
            "Defense: Isn't it true that you had a personal stake in the outcome of the election, and that you stood to gain from the appellants' victory? Perhaps you had a business or personal relationship with one of the appellants that would have benefited from their election?\n",
            "\n",
            "Witness1: No, that's not true. I was just a supporter.\n",
            "\n",
            "Defense: Can you explain, then, why you were able to attend so many of the appellants' meetings and rallies? Did you have some kind of special access or invitation?\n",
            "\n",
            "Witness1: I just showed up, and they let me in.\n",
            "\n",
            "Defense: That's interesting. Because, according to our records, many of these meetings and rallies were invitation-only events, and only authorized personnel were allowed to attend. How do you explain the fact that you were able to gain access to these events?\n",
            "\n",
            "Witness1: I...I don't know.\n",
            "\n",
            "Defense: Isn't it possible that you were, in fact, a paid agent or worker for the respondent, and that your testimony is motivated by a desire to discredit the appellants and support the respondent's case?\n",
            "\n",
            "Witness1: No, that's not true.\n",
            "\n",
            "Defense: We have evidence that suggests otherwise. Can you explain the following statement, taken from your deposition: \"I was asked by the respondent to attend the appellants' meetings and rallies, and to report back on their activities\"?\n",
            "\n",
            "Witness1: I...I don't remember saying that.\n",
            "\n",
            "Defense: Isn't it true that you have a history of making false statements and providing misleading information? Can you explain the following incident, in which you provided false information to a government official?\n",
            "\n",
            "Witness1: I...I don't know what you're talking about.\n",
            "\n",
            "Defense: We will provide evidence of this incident, and it will demonstrate that your testimony is not credible. Now, let's move on to the issue of the Mukhias. You testified that the appellants employed four village officers, Mukhias, in furtherance of their election prospects. Can you provide any evidence to support this claim?\n",
            "\n",
            "Witness1: I...I don't have any documents or records, but I know it's true.\n",
            "\n",
            "Defense: Isn't it true that the Mukhias were simply volunteers who supported the appellants' campaign, and that they were not employed or paid by the appellants?\n",
            "\n",
            "Witness1: I...I don't know.\n",
            "\n",
            "Defense: We have evidence that suggests the Mukhias were, in fact, volunteers who supported the appellants' campaign. Can you explain why you would testify to the contrary?\n",
            "\n",
            "Witness1: I...I was mistaken.\n",
            "\n",
            "Defense: Finally, let's discuss the issue of Ganga Prasad and Viswanath Pande. You testified that the first appellant employed these two individuals in excess of the permitted number, and that they were paid for their services. Can you provide any evidence to support this claim?\n",
            "\n",
            "Witness1: I...I don't have any documents or records, but I know it's true.\n",
            "\n",
            "Defense: Isn't it true that Ganga Prasad and Viswanath Pande were simply volunteers who supported the appellants' campaign, and that they were not employed or paid by the appellants?\n",
            "\n",
            "Witness1: I...I don't know.\n",
            "\n",
            "Defense: We have evidence that suggests Ganga Prasad and Viswanath Pande were, in fact, volunteers who supported the appellants' campaign. Can you explain why you would testify to the contrary?\n",
            "\n",
            "Witness1: I...I was mistaken.\n",
            "\n",
            "The defense has raised significant doubts about the credibility of Witness1, highlighting inconsistencies and contradictions in their testimony. The witness's inability to provide evidence to support their claims, combined with their history of making false statements, undermines their credibility. The defense has also raised questions about the witness's potential bias and motivation, suggesting that they may have a personal stake in the outcome of the election.\n",
            "\n",
            "--------------------------------------------------------------------------------------------------------------------------------------------------------------------------------------------------------------------------------------------------------------------------------------------------------------------------------------------------------------------------------------------------------------------------------------------------------------------------------------------------------------------\n",
            "\n",
            "\u001b[93mEXPERTWITNESS:\u001b[0m\n",
            "As the expert witness in contract law, I have analyzed the arbitration clause and its implications in this case. The arbitration clause in question is not explicitly mentioned in the provided text, but it appears that the case involves an election petition and allegations of corrupt practices under the Representation of the People Act, 1951.\n",
            "\n",
            "In general, an arbitration clause is a contractual provision that requires parties to submit disputes to arbitration, rather than litigating them in court. In the context of election disputes, arbitration clauses may be used to resolve disputes related to election agreements, candidate nominations, or other election-related matters.\n",
            "\n",
            "In this case, the dispute revolves around allegations of corrupt practices by the appellants during the election campaign. The respondent filed an election petition under Section 81 of the Representation of the People Act, 1951, alleging that the appellants had committed corrupt practices, including obtaining the assistance of government servants and employing individuals in excess of the permitted number.\n",
            "\n",
            "The arbitration clause, if present, would likely be relevant to the dispute resolution process. However, the provided text does not mention an arbitration clause or any agreement to arbitrate. Instead, the case is being heard by the Election Tribunal, which is a statutory body established under the Representation of the People Act, 1951, to hear election disputes.\n",
            "\n",
            "From a contract law perspective, the absence of an arbitration clause in this case means that the parties are not bound by a contractual agreement to submit their disputes to arbitration. The Election Tribunal's jurisdiction to hear the case is based on the statutory provisions of the Representation of the People Act, 1951, rather than any contractual agreement between the parties.\n",
            "\n",
            "The legal implications of the arbitration clause, if present, would depend on its specific terms and the circumstances of the case. In general, an arbitration clause can have significant implications for the dispute resolution process, including:\n",
            "\n",
            "1. **Binding effect**: An arbitration clause can be binding on the parties, requiring them to submit disputes to arbitration and limiting their ability to litigate in court.\n",
            "2. **Exclusive jurisdiction**: An arbitration clause can confer exclusive jurisdiction on the arbitrator or arbitration tribunal, preventing the parties from seeking relief in court.\n",
            "3. **Enforceability**: An arbitration clause can be enforceable in court, allowing a party to seek an order compelling the other party to arbitrate.\n",
            "4. **Waiver of rights**: By agreeing to arbitrate, parties may waive certain rights, such as the right to a jury trial or the right to appeal.\n",
            "\n",
            "In conclusion, while an arbitration clause may be relevant to the dispute resolution process in this case, its absence means that the parties are not bound by a contractual agreement to arbitrate. The Election Tribunal's jurisdiction to hear the case is based on statutory provisions, and the dispute will be resolved in accordance with the applicable laws and regulations.\n",
            "\n",
            "--------------------------------------------------------------------------------------------------------------------------------------------------------------------------------------------------------------------------------------------------------------------------------------------------------------------------------------------------------------------------------------------------------------------------------------------------------------------------------------------------------------------\n",
            "\n"
          ]
        },
        {
          "ename": "KeyboardInterrupt",
          "evalue": "",
          "output_type": "error",
          "traceback": [
            "\u001b[0;31m---------------------------------------------------------------------------\u001b[0m",
            "\u001b[0;31mHTTPStatusError\u001b[0m                           Traceback (most recent call last)",
            "\u001b[0;32m/usr/local/lib/python3.11/dist-packages/groq/_base_client.py\u001b[0m in \u001b[0;36mrequest\u001b[0;34m(self, cast_to, options, stream, stream_cls)\u001b[0m\n\u001b[1;32m   1010\u001b[0m             \u001b[0;32mtry\u001b[0m\u001b[0;34m:\u001b[0m\u001b[0;34m\u001b[0m\u001b[0;34m\u001b[0m\u001b[0m\n\u001b[0;32m-> 1011\u001b[0;31m                 \u001b[0mresponse\u001b[0m\u001b[0;34m.\u001b[0m\u001b[0mraise_for_status\u001b[0m\u001b[0;34m(\u001b[0m\u001b[0;34m)\u001b[0m\u001b[0;34m\u001b[0m\u001b[0;34m\u001b[0m\u001b[0m\n\u001b[0m\u001b[1;32m   1012\u001b[0m             \u001b[0;32mexcept\u001b[0m \u001b[0mhttpx\u001b[0m\u001b[0;34m.\u001b[0m\u001b[0mHTTPStatusError\u001b[0m \u001b[0;32mas\u001b[0m \u001b[0merr\u001b[0m\u001b[0;34m:\u001b[0m  \u001b[0;31m# thrown on 4xx and 5xx status code\u001b[0m\u001b[0;34m\u001b[0m\u001b[0;34m\u001b[0m\u001b[0m\n",
            "\u001b[0;32m/usr/local/lib/python3.11/dist-packages/httpx/_models.py\u001b[0m in \u001b[0;36mraise_for_status\u001b[0;34m(self)\u001b[0m\n\u001b[1;32m    828\u001b[0m         \u001b[0mmessage\u001b[0m \u001b[0;34m=\u001b[0m \u001b[0mmessage\u001b[0m\u001b[0;34m.\u001b[0m\u001b[0mformat\u001b[0m\u001b[0;34m(\u001b[0m\u001b[0mself\u001b[0m\u001b[0;34m,\u001b[0m \u001b[0merror_type\u001b[0m\u001b[0;34m=\u001b[0m\u001b[0merror_type\u001b[0m\u001b[0;34m)\u001b[0m\u001b[0;34m\u001b[0m\u001b[0;34m\u001b[0m\u001b[0m\n\u001b[0;32m--> 829\u001b[0;31m         \u001b[0;32mraise\u001b[0m \u001b[0mHTTPStatusError\u001b[0m\u001b[0;34m(\u001b[0m\u001b[0mmessage\u001b[0m\u001b[0;34m,\u001b[0m \u001b[0mrequest\u001b[0m\u001b[0;34m=\u001b[0m\u001b[0mrequest\u001b[0m\u001b[0;34m,\u001b[0m \u001b[0mresponse\u001b[0m\u001b[0;34m=\u001b[0m\u001b[0mself\u001b[0m\u001b[0;34m)\u001b[0m\u001b[0;34m\u001b[0m\u001b[0;34m\u001b[0m\u001b[0m\n\u001b[0m\u001b[1;32m    830\u001b[0m \u001b[0;34m\u001b[0m\u001b[0m\n",
            "\u001b[0;31mHTTPStatusError\u001b[0m: Client error '429 Too Many Requests' for url 'https://api.groq.com/openai/v1/chat/completions'\nFor more information check: https://developer.mozilla.org/en-US/docs/Web/HTTP/Status/429",
            "\nDuring handling of the above exception, another exception occurred:\n",
            "\u001b[0;31mKeyboardInterrupt\u001b[0m                         Traceback (most recent call last)",
            "\u001b[0;32m<ipython-input-47-85000a795bc4>\u001b[0m in \u001b[0;36m<cell line: 0>\u001b[0;34m()\u001b[0m\n\u001b[1;32m     38\u001b[0m \u001b[0;32mif\u001b[0m \u001b[0m__name__\u001b[0m \u001b[0;34m==\u001b[0m \u001b[0;34m\"__main__\"\u001b[0m\u001b[0;34m:\u001b[0m\u001b[0;34m\u001b[0m\u001b[0;34m\u001b[0m\u001b[0m\n\u001b[1;32m     39\u001b[0m     \u001b[0mprint\u001b[0m\u001b[0;34m(\u001b[0m\u001b[0;34mf\"\\nCurrent case type: {court.case_type.upper()}\"\u001b[0m\u001b[0;34m)\u001b[0m\u001b[0;34m\u001b[0m\u001b[0;34m\u001b[0m\u001b[0m\n\u001b[0;32m---> 40\u001b[0;31m     \u001b[0mflexible_trial\u001b[0m\u001b[0;34m(\u001b[0m\u001b[0mcourt\u001b[0m\u001b[0;34m)\u001b[0m\u001b[0;34m\u001b[0m\u001b[0;34m\u001b[0m\u001b[0m\n\u001b[0m",
            "\u001b[0;32m<ipython-input-47-85000a795bc4>\u001b[0m in \u001b[0;36mflexible_trial\u001b[0;34m(court)\u001b[0m\n\u001b[1;32m     16\u001b[0m         \u001b[0mphase_name\u001b[0m \u001b[0;34m=\u001b[0m \u001b[0mphase_order\u001b[0m\u001b[0;34m[\u001b[0m\u001b[0mphase_idx\u001b[0m\u001b[0;34m]\u001b[0m\u001b[0;34m\u001b[0m\u001b[0;34m\u001b[0m\u001b[0m\n\u001b[1;32m     17\u001b[0m         \u001b[0mprompts\u001b[0m \u001b[0;34m=\u001b[0m \u001b[0mphase_prompts\u001b[0m\u001b[0;34m[\u001b[0m\u001b[0mphase_name\u001b[0m\u001b[0;34m]\u001b[0m\u001b[0;34m\u001b[0m\u001b[0;34m\u001b[0m\u001b[0m\n\u001b[0;32m---> 18\u001b[0;31m         \u001b[0mresponses\u001b[0m \u001b[0;34m=\u001b[0m \u001b[0mcourt\u001b[0m\u001b[0;34m.\u001b[0m\u001b[0mrun_phase\u001b[0m\u001b[0;34m(\u001b[0m\u001b[0mphase_name\u001b[0m\u001b[0;34m,\u001b[0m \u001b[0mprompts\u001b[0m\u001b[0;34m)\u001b[0m\u001b[0;34m\u001b[0m\u001b[0;34m\u001b[0m\u001b[0m\n\u001b[0m\u001b[1;32m     19\u001b[0m         \u001b[0;31m# Decide next phase based on responses\u001b[0m\u001b[0;34m\u001b[0m\u001b[0;34m\u001b[0m\u001b[0m\n\u001b[1;32m     20\u001b[0m         next_phase, instructions = get_next_phase_from_responses(\n",
            "\u001b[0;32m<ipython-input-44-24754cf1cb19>\u001b[0m in \u001b[0;36mrun_phase\u001b[0;34m(self, phase_name, prompts)\u001b[0m\n\u001b[1;32m     53\u001b[0m             \u001b[0;32mif\u001b[0m \u001b[0mrole\u001b[0m \u001b[0;32min\u001b[0m \u001b[0mself\u001b[0m\u001b[0;34m.\u001b[0m\u001b[0magents\u001b[0m\u001b[0;34m:\u001b[0m\u001b[0;34m\u001b[0m\u001b[0;34m\u001b[0m\u001b[0m\n\u001b[1;32m     54\u001b[0m                 \u001b[0mfull_prompt\u001b[0m \u001b[0;34m=\u001b[0m \u001b[0mprompt\u001b[0m \u001b[0;34m+\u001b[0m \u001b[0;34m\"\\nCase: \"\u001b[0m \u001b[0;34m+\u001b[0m \u001b[0mself\u001b[0m\u001b[0;34m.\u001b[0m\u001b[0mcase_background\u001b[0m\u001b[0;34m[\u001b[0m\u001b[0;34m:\u001b[0m\u001b[0;36m4000\u001b[0m\u001b[0;34m]\u001b[0m\u001b[0;34m\u001b[0m\u001b[0;34m\u001b[0m\u001b[0m\n\u001b[0;32m---> 55\u001b[0;31m                 \u001b[0mresponse\u001b[0m \u001b[0;34m=\u001b[0m \u001b[0mself\u001b[0m\u001b[0;34m.\u001b[0m\u001b[0magents\u001b[0m\u001b[0;34m[\u001b[0m\u001b[0mrole\u001b[0m\u001b[0;34m]\u001b[0m\u001b[0;34m.\u001b[0m\u001b[0mget_response\u001b[0m\u001b[0;34m(\u001b[0m\u001b[0mfull_prompt\u001b[0m\u001b[0;34m,\u001b[0m \u001b[0mself\u001b[0m\u001b[0;34m.\u001b[0m\u001b[0mshared_history\u001b[0m\u001b[0;34m,\u001b[0m \u001b[0mcontext_window\u001b[0m\u001b[0;34m=\u001b[0m\u001b[0;36m30\u001b[0m\u001b[0;34m)\u001b[0m\u001b[0;34m\u001b[0m\u001b[0;34m\u001b[0m\u001b[0m\n\u001b[0m\u001b[1;32m     56\u001b[0m                 \u001b[0mprint_speaker\u001b[0m\u001b[0;34m(\u001b[0m\u001b[0mrole\u001b[0m\u001b[0;34m,\u001b[0m \u001b[0mresponse\u001b[0m\u001b[0;34m)\u001b[0m\u001b[0;34m\u001b[0m\u001b[0;34m\u001b[0m\u001b[0m\n\u001b[1;32m     57\u001b[0m                 \u001b[0moutputs\u001b[0m\u001b[0;34m[\u001b[0m\u001b[0mrole\u001b[0m\u001b[0;34m]\u001b[0m \u001b[0;34m=\u001b[0m \u001b[0mresponse\u001b[0m\u001b[0;34m\u001b[0m\u001b[0;34m\u001b[0m\u001b[0m\n",
            "\u001b[0;32m<ipython-input-43-a6d85809fece>\u001b[0m in \u001b[0;36mget_response\u001b[0;34m(self, user_message, shared_history, context_window)\u001b[0m\n\u001b[1;32m     29\u001b[0m         \u001b[0mmapped_history\u001b[0m \u001b[0;34m=\u001b[0m \u001b[0;34m[\u001b[0m\u001b[0;34m{\u001b[0m\u001b[0;34m\"role\"\u001b[0m\u001b[0;34m:\u001b[0m \u001b[0mmap_role\u001b[0m\u001b[0;34m(\u001b[0m\u001b[0mmsg\u001b[0m\u001b[0;34m[\u001b[0m\u001b[0;34m\"role\"\u001b[0m\u001b[0;34m]\u001b[0m\u001b[0;34m)\u001b[0m\u001b[0;34m,\u001b[0m \u001b[0;34m\"content\"\u001b[0m\u001b[0;34m:\u001b[0m \u001b[0mmsg\u001b[0m\u001b[0;34m[\u001b[0m\u001b[0;34m\"content\"\u001b[0m\u001b[0;34m]\u001b[0m\u001b[0;34m}\u001b[0m \u001b[0;32mfor\u001b[0m \u001b[0mmsg\u001b[0m \u001b[0;32min\u001b[0m \u001b[0mhistory\u001b[0m\u001b[0;34m]\u001b[0m\u001b[0;34m\u001b[0m\u001b[0;34m\u001b[0m\u001b[0m\n\u001b[1;32m     30\u001b[0m \u001b[0;34m\u001b[0m\u001b[0m\n\u001b[0;32m---> 31\u001b[0;31m         response = client.chat.completions.create(\n\u001b[0m\u001b[1;32m     32\u001b[0m             \u001b[0mmodel\u001b[0m\u001b[0;34m=\u001b[0m\u001b[0mMODEL_NAME\u001b[0m\u001b[0;34m,\u001b[0m\u001b[0;34m\u001b[0m\u001b[0;34m\u001b[0m\u001b[0m\n\u001b[1;32m     33\u001b[0m             \u001b[0mmessages\u001b[0m\u001b[0;34m=\u001b[0m\u001b[0mmapped_history\u001b[0m\u001b[0;34m,\u001b[0m\u001b[0;34m\u001b[0m\u001b[0;34m\u001b[0m\u001b[0m\n",
            "\u001b[0;32m/usr/local/lib/python3.11/dist-packages/groq/resources/chat/completions.py\u001b[0m in \u001b[0;36mcreate\u001b[0;34m(self, messages, model, exclude_domains, frequency_penalty, function_call, functions, include_domains, logit_bias, logprobs, max_completion_tokens, max_tokens, metadata, n, parallel_tool_calls, presence_penalty, reasoning_format, response_format, seed, service_tier, stop, store, stream, temperature, tool_choice, tools, top_logprobs, top_p, user, extra_headers, extra_query, extra_body, timeout)\u001b[0m\n\u001b[1;32m    353\u001b[0m           \u001b[0mtimeout\u001b[0m\u001b[0;34m:\u001b[0m \u001b[0mOverride\u001b[0m \u001b[0mthe\u001b[0m \u001b[0mclient\u001b[0m\u001b[0;34m-\u001b[0m\u001b[0mlevel\u001b[0m \u001b[0mdefault\u001b[0m \u001b[0mtimeout\u001b[0m \u001b[0;32mfor\u001b[0m \u001b[0mthis\u001b[0m \u001b[0mrequest\u001b[0m\u001b[0;34m,\u001b[0m \u001b[0;32min\u001b[0m \u001b[0mseconds\u001b[0m\u001b[0;34m\u001b[0m\u001b[0;34m\u001b[0m\u001b[0m\n\u001b[1;32m    354\u001b[0m         \"\"\"\n\u001b[0;32m--> 355\u001b[0;31m         return self._post(\n\u001b[0m\u001b[1;32m    356\u001b[0m             \u001b[0;34m\"/openai/v1/chat/completions\"\u001b[0m\u001b[0;34m,\u001b[0m\u001b[0;34m\u001b[0m\u001b[0;34m\u001b[0m\u001b[0m\n\u001b[1;32m    357\u001b[0m             body=maybe_transform(\n",
            "\u001b[0;32m/usr/local/lib/python3.11/dist-packages/groq/_base_client.py\u001b[0m in \u001b[0;36mpost\u001b[0;34m(self, path, cast_to, body, options, files, stream, stream_cls)\u001b[0m\n\u001b[1;32m   1220\u001b[0m             \u001b[0mmethod\u001b[0m\u001b[0;34m=\u001b[0m\u001b[0;34m\"post\"\u001b[0m\u001b[0;34m,\u001b[0m \u001b[0murl\u001b[0m\u001b[0;34m=\u001b[0m\u001b[0mpath\u001b[0m\u001b[0;34m,\u001b[0m \u001b[0mjson_data\u001b[0m\u001b[0;34m=\u001b[0m\u001b[0mbody\u001b[0m\u001b[0;34m,\u001b[0m \u001b[0mfiles\u001b[0m\u001b[0;34m=\u001b[0m\u001b[0mto_httpx_files\u001b[0m\u001b[0;34m(\u001b[0m\u001b[0mfiles\u001b[0m\u001b[0;34m)\u001b[0m\u001b[0;34m,\u001b[0m \u001b[0;34m**\u001b[0m\u001b[0moptions\u001b[0m\u001b[0;34m\u001b[0m\u001b[0;34m\u001b[0m\u001b[0m\n\u001b[1;32m   1221\u001b[0m         )\n\u001b[0;32m-> 1222\u001b[0;31m         \u001b[0;32mreturn\u001b[0m \u001b[0mcast\u001b[0m\u001b[0;34m(\u001b[0m\u001b[0mResponseT\u001b[0m\u001b[0;34m,\u001b[0m \u001b[0mself\u001b[0m\u001b[0;34m.\u001b[0m\u001b[0mrequest\u001b[0m\u001b[0;34m(\u001b[0m\u001b[0mcast_to\u001b[0m\u001b[0;34m,\u001b[0m \u001b[0mopts\u001b[0m\u001b[0;34m,\u001b[0m \u001b[0mstream\u001b[0m\u001b[0;34m=\u001b[0m\u001b[0mstream\u001b[0m\u001b[0;34m,\u001b[0m \u001b[0mstream_cls\u001b[0m\u001b[0;34m=\u001b[0m\u001b[0mstream_cls\u001b[0m\u001b[0;34m)\u001b[0m\u001b[0;34m)\u001b[0m\u001b[0;34m\u001b[0m\u001b[0;34m\u001b[0m\u001b[0m\n\u001b[0m\u001b[1;32m   1223\u001b[0m \u001b[0;34m\u001b[0m\u001b[0m\n\u001b[1;32m   1224\u001b[0m     def patch(\n",
            "\u001b[0;32m/usr/local/lib/python3.11/dist-packages/groq/_base_client.py\u001b[0m in \u001b[0;36mrequest\u001b[0;34m(self, cast_to, options, stream, stream_cls)\u001b[0m\n\u001b[1;32m   1015\u001b[0m                 \u001b[0;32mif\u001b[0m \u001b[0mremaining_retries\u001b[0m \u001b[0;34m>\u001b[0m \u001b[0;36m0\u001b[0m \u001b[0;32mand\u001b[0m \u001b[0mself\u001b[0m\u001b[0;34m.\u001b[0m\u001b[0m_should_retry\u001b[0m\u001b[0;34m(\u001b[0m\u001b[0merr\u001b[0m\u001b[0;34m.\u001b[0m\u001b[0mresponse\u001b[0m\u001b[0;34m)\u001b[0m\u001b[0;34m:\u001b[0m\u001b[0;34m\u001b[0m\u001b[0;34m\u001b[0m\u001b[0m\n\u001b[1;32m   1016\u001b[0m                     \u001b[0merr\u001b[0m\u001b[0;34m.\u001b[0m\u001b[0mresponse\u001b[0m\u001b[0;34m.\u001b[0m\u001b[0mclose\u001b[0m\u001b[0;34m(\u001b[0m\u001b[0;34m)\u001b[0m\u001b[0;34m\u001b[0m\u001b[0;34m\u001b[0m\u001b[0m\n\u001b[0;32m-> 1017\u001b[0;31m                     self._sleep_for_retry(\n\u001b[0m\u001b[1;32m   1018\u001b[0m                         \u001b[0mretries_taken\u001b[0m\u001b[0;34m=\u001b[0m\u001b[0mretries_taken\u001b[0m\u001b[0;34m,\u001b[0m\u001b[0;34m\u001b[0m\u001b[0;34m\u001b[0m\u001b[0m\n\u001b[1;32m   1019\u001b[0m                         \u001b[0mmax_retries\u001b[0m\u001b[0;34m=\u001b[0m\u001b[0mmax_retries\u001b[0m\u001b[0;34m,\u001b[0m\u001b[0;34m\u001b[0m\u001b[0;34m\u001b[0m\u001b[0m\n",
            "\u001b[0;32m/usr/local/lib/python3.11/dist-packages/groq/_base_client.py\u001b[0m in \u001b[0;36m_sleep_for_retry\u001b[0;34m(self, retries_taken, max_retries, options, response)\u001b[0m\n\u001b[1;32m   1055\u001b[0m         \u001b[0mlog\u001b[0m\u001b[0;34m.\u001b[0m\u001b[0minfo\u001b[0m\u001b[0;34m(\u001b[0m\u001b[0;34m\"Retrying request to %s in %f seconds\"\u001b[0m\u001b[0;34m,\u001b[0m \u001b[0moptions\u001b[0m\u001b[0;34m.\u001b[0m\u001b[0murl\u001b[0m\u001b[0;34m,\u001b[0m \u001b[0mtimeout\u001b[0m\u001b[0;34m)\u001b[0m\u001b[0;34m\u001b[0m\u001b[0;34m\u001b[0m\u001b[0m\n\u001b[1;32m   1056\u001b[0m \u001b[0;34m\u001b[0m\u001b[0m\n\u001b[0;32m-> 1057\u001b[0;31m         \u001b[0mtime\u001b[0m\u001b[0;34m.\u001b[0m\u001b[0msleep\u001b[0m\u001b[0;34m(\u001b[0m\u001b[0mtimeout\u001b[0m\u001b[0;34m)\u001b[0m\u001b[0;34m\u001b[0m\u001b[0;34m\u001b[0m\u001b[0m\n\u001b[0m\u001b[1;32m   1058\u001b[0m \u001b[0;34m\u001b[0m\u001b[0m\n\u001b[1;32m   1059\u001b[0m     def _process_response(\n",
            "\u001b[0;31mKeyboardInterrupt\u001b[0m: "
          ]
        }
      ],
      "source": [
        "def flexible_trial(court):\n",
        "    phase_order = [\n",
        "        \"Opening Statements\",\n",
        "        \"Witness Interrogation & Argumentation\",\n",
        "        \"Closing Statements\",\n",
        "        \"Judge's Ruling\"\n",
        "    ]\n",
        "    phase_prompts = {\n",
        "        \"Opening Statements\": opening_prompts,\n",
        "        \"Witness Interrogation & Argumentation\": phase2_prompts,\n",
        "        \"Closing Statements\": closing_prompts,\n",
        "        \"Judge's Ruling\": {\"Judge\": judge_ruling_prompt}\n",
        "    }\n",
        "    phase_idx = 0\n",
        "    while phase_idx < len(phase_order):\n",
        "        phase_name = phase_order[phase_idx]\n",
        "        prompts = phase_prompts[phase_name]\n",
        "        responses = court.run_phase(phase_name, prompts)\n",
        "        # Decide next phase based on responses\n",
        "        next_phase, instructions = get_next_phase_from_responses(\n",
        "            responses,\n",
        "            phase_order[phase_idx + 1] if phase_idx + 1 < len(phase_order) else None\n",
        "        )\n",
        "        if next_phase and next_phase != phase_order[phase_idx]:\n",
        "            phase_idx = phase_order.index(next_phase)\n",
        "        else:\n",
        "            phase_idx += 1\n",
        "\n",
        "    # Jury Deliberation (optional, after ruling)\n",
        "    for i in range(1, 4):\n",
        "        court.run_phase(f\"Jury Deliberation - Juror {i}\", {\n",
        "            f\"Juror{i}\": (\n",
        "                \"As a juror, based on all the evidence and arguments presented, state your verdict and briefly explain your reasoning.\"\n",
        "            )\n",
        "        })\n",
        "\n",
        "# --- Run the simulation ---\n",
        "if __name__ == \"__main__\":\n",
        "    print(f\"\\nCurrent case type: {court.case_type.upper()}\")\n",
        "    flexible_trial(court)"
      ]
    }
  ],
  "metadata": {
    "colab": {
      "provenance": [],
      "toc_visible": true
    },
    "kernelspec": {
      "display_name": "Python 3",
      "name": "python3"
    },
    "language_info": {
      "name": "python"
    }
  },
  "nbformat": 4,
  "nbformat_minor": 0
}
